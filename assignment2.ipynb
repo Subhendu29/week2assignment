{
  "nbformat": 4,
  "nbformat_minor": 0,
  "metadata": {
    "colab": {
      "provenance": []
    },
    "kernelspec": {
      "name": "python3",
      "display_name": "Python 3"
    },
    "language_info": {
      "name": "python"
    }
  },
  "cells": [
    {
      "cell_type": "code",
      "source": [
        "#capitalize : Task to make the first letter of every words as capital\n",
        "#Resources :\n",
        "#https://www.hackerrank.com/challenges/capitalize/problem?isFullScreen=true\n",
        "\n",
        "#!/bin/python3\n",
        "\n",
        "import math\n",
        "import os\n",
        "import random\n",
        "import re\n",
        "import sys\n",
        "# Complete the solve function below.\n",
        "def solve(s):\n",
        "    return ' '.join(word[0].upper() + word[1:] if word else '' for word in s.split(' '))\n",
        "\n",
        "\n",
        "\n",
        "\n",
        "if __name__ == '__main__':\n"
      ],
      "metadata": {
        "id": "FldlHCOURItD",
        "collapsed": true
      },
      "execution_count": null,
      "outputs": []
    },
    {
      "cell_type": "code",
      "source": [
        "#py-introduction-to-sets : Calculate the avarges of items present inside a python set\n",
        "#Resources :\n",
        "#https://www.hackerrank.com/challenges/py-introduction-to-sets/problem?isFullScreen=true\n",
        " def average(array):\n",
        "\n",
        "    distinct_heights = set(array)\n",
        "    return round(sum(distinct_heights) / len(distinct_heights), 3)\n",
        "\n",
        "    # your code goes here\n",
        "\n",
        "if __name__ == '__main__':"
      ],
      "metadata": {
        "id": "lL5oi_n2RoN2"
      },
      "execution_count": null,
      "outputs": []
    },
    {
      "cell_type": "code",
      "source": [
        "#text-wrap : Task to wrap the string into a paragraph of given width .\n",
        "#Resources :\n",
        "#https://hackerrank.com/challenges/text-wrap/problem?isFullScreen=true\n",
        " import textwrap\n",
        "\n",
        "def wrap(string, max_width):\n",
        "    return textwrap.fill(string, max_width)\n",
        "\n",
        "if __name__ == '__main__':"
      ],
      "metadata": {
        "id": "VbdzqmWYF1Q5"
      },
      "execution_count": null,
      "outputs": []
    },
    {
      "cell_type": "code",
      "source": [
        "#alphabet-rangoli : pattern printing with the help of alphabets\n",
        "#Resources :\n",
        "#https://www.hackerrank.com/challenges/alphabet-rangoli/problem?isFullScreen=true\n",
        " import string\n",
        " def print_rangoli(size):\n",
        "    alphabet = string.ascii_lowercase\n",
        "    lines = []\n",
        "\n",
        "\n",
        "    for i in range(size):\n",
        "        left = alphabet[size-1:i:-1]\n",
        "        center = alphabet[i]\n",
        "        right = alphabet[i+1:size]\n",
        "        row = '-'.join(left + center + right)\n",
        "        lines.append(row.center(4*size - 3, '-'))\n",
        "\n",
        "\n",
        "    full_rangoli = lines[::-1] + lines[1:]\n",
        "\n",
        "\n",
        "    for line in full_rangoli:\n",
        "        print(line)\n",
        "if __name__ == '__main__':"
      ],
      "metadata": {
        "id": "YorYxtduF_XR"
      },
      "execution_count": null,
      "outputs": []
    },
    {
      "cell_type": "code",
      "source": [
        "#merge-the-tools : Split a string into equal parts of length and Convert each parts by removing any subsequent occurrences of non-distinct\n",
        "#Resources :\n",
        "#https://www.hackerrank.com/challenges/merge-the-tools/problem?isFullScreen=true\n",
        " def merge_the_tools(string, k):\n",
        "    for i in range(0, len(string), k):\n",
        "        t = string[i:i+k]\n",
        "        u = \"\"\n",
        "        for c in t:\n",
        "            if c not in u:\n",
        "                u += c\n",
        "        print(u)\n",
        "    # your code goes here\n",
        "\n",
        " if __name__ == '__main__':"
      ],
      "metadata": {
        "id": "ULwWaTF4GNJQ"
      },
      "execution_count": null,
      "outputs": []
    },
    {
      "cell_type": "code",
      "source": [
        "#collections-counter : calculate the total earned amount\n",
        "#Resources :\n",
        "#https://www.hackerrank.com/challenges/collections-counter/problem?isFullScreen=true\n",
        "  from collections import Counter\n",
        "X = int(input())\n",
        "shoe_sizes = list(map(int, input().split()))\n",
        "shoe_inventory = Counter(shoe_sizes)\n",
        "\n",
        "N = int(input())\n",
        "earnings = 0\n",
        "\n",
        "for _ in range(N):\n",
        "    size, price = map(int, input().split())\n",
        "    if shoe_inventory[size] > 0:\n",
        "        earnings += price\n",
        "        shoe_inventory[size] -= 1\n",
        "\n",
        "print(earnings)"
      ],
      "metadata": {
        "id": "wdoj5eaUGZXS"
      },
      "execution_count": null,
      "outputs": []
    },
    {
      "cell_type": "code",
      "source": [
        "#exceptions : implementing exception handling\n",
        "#Resources :\n",
        "#https://www.hackerrank.com/challenges/exceptions/problem?isFullScreen=true\n",
        "T = int(input())\n",
        "\n",
        "for _ in range(T):\n",
        "    try:\n",
        "        a, b = input().split()\n",
        "        print(int(a) // int(b))\n",
        "    except ZeroDivisionError as e:\n",
        "        print(\"Error Code:\", e)\n",
        "    except ValueError as e:\n",
        "        print(\"Error Code:\", e)\n"
      ],
      "metadata": {
        "id": "FKeptc6PGiXm"
      },
      "execution_count": null,
      "outputs": []
    },
    {
      "cell_type": "code",
      "source": [
        "#incorrect-regex : regex based problem statement\n",
        "#Resources :\n",
        "#https://www.hackerrank.com/challenges/incorrect-regex/problem?isFullScreen=true\n",
        "import re\n",
        "import sys\n",
        "\n",
        "lines = sys.stdin.read().splitlines()\n",
        "T = int(lines[0])\n",
        "\n",
        "for i in range(1, T + 1):\n",
        "    try:\n",
        "        re.compile(lines[i])\n",
        "        print(\"True\")\n",
        "    except re.error:\n",
        "        print(\"False\")\n"
      ],
      "metadata": {
        "id": "gTV_Le71Grhq"
      },
      "execution_count": null,
      "outputs": []
    },
    {
      "cell_type": "code",
      "source": [
        "#py-set-discard-remove-pop : task based on discard(),remove() & pop()\n",
        "#Resources :\n",
        "#https://www.hackerrank.com/challenges/py-set-discard-remove-pop/problem?isFullScreen=true\n",
        "n = int(input())\n",
        "s = set(map(int, input().split()))\n",
        "N = int(input())\n",
        "\n",
        "for _ in range(N):\n",
        "    command = input().strip().split()\n",
        "    if command[0] == \"pop\":\n",
        "        if s:\n",
        "            s.remove(min(s))  # deterministic behavior\n",
        "    elif command[0] == \"remove\":\n",
        "        try:\n",
        "            s.remove(int(command[1]))\n",
        "        except KeyError:\n",
        "            pass\n",
        "    elif command[0] == \"discard\":\n",
        "        s.discard(int(command[1]))\n",
        "\n",
        "print(sum(s))\n"
      ],
      "metadata": {
        "id": "6-v8f81PRLFi"
      },
      "execution_count": null,
      "outputs": []
    }
  ]
}